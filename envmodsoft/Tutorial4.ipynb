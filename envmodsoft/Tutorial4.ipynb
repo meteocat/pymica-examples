{
 "cells": [
  {
   "cell_type": "markdown",
   "metadata": {},
   "source": [
    "# Tutorial 4: pyMICA class application"
   ]
  },
  {
   "cell_type": "markdown",
   "metadata": {},
   "source": [
    "In this example we will show how to obtain interpolated fields considering clusters or not. In this case data from the automatic weather station network of the Meteorological Service of Catalonia (SMC) will be used. Particularly, data from 13rd December 2016, which corresponds to a persistent fog situation.\n",
    "\n",
    "The interpolated fields are obtained through the application of the main class of the pyMICA library, PyMica. Therefore, we import it:"
   ]
  },
  {
   "cell_type": "code",
   "execution_count": null,
   "metadata": {},
   "outputs": [],
   "source": [
    "from pymica.pymica import PyMica"
   ]
  },
  {
   "cell_type": "markdown",
   "metadata": {},
   "source": [
    "PyMica class receives four parameters:\n",
    "\n",
    "   - data_file: The path of the .json file with the point data\n",
    "   - variables_file: A list of the file(s) path(s) containing the fields of the explanatory variables used in the regression. For more information on these fields, please see [Explanatory data](../how-to/create-explanatory-fields.ipynb) section.\n",
    "   - clusters: A dictionary with two keys {'clusters_files': path for the clusters definitions, 'mask files': path for the rasterized clusters}. For more information on these fields, please see [Appendix C](AppendixC.ipynb).\n",
    "   - data_format: A dictionary with the name of the variables in the data file if they are not named as the default option. Defaults to ```{'loc_vars': ('lon', 'lat'), 'id_key': 'id', 'y_var': 'temp', 'x_vars': ('altitude', 'dist')}```\n",
    "   - residuals_int: The residuals interpolation methodology, which can be `id2d` (default), `id3d` and `idw`.  \n"
   ]
  },
  {
   "cell_type": "markdown",
   "metadata": {},
   "source": [
    "## Tutorial 4.1: Preparation of PyMica class parameters\n",
    "\n",
    "From the four parameters above, three of them are the same either clusters are considered or not (`data_file`, `variables_file` and `data_format`). Therefore, we define them before explaining how to obtain the interpolated fields with and without clusters.\n",
    "\n",
    "For the interpolation we will consider two explanatory variables: altitude and distance to coast. But first, we define the path to the file containing the data."
   ]
  },
  {
   "cell_type": "code",
   "execution_count": null,
   "metadata": {},
   "outputs": [],
   "source": [
    "data_file = '../envmodsoft/data/observations/xema_max_20161213.json'"
   ]
  },
  {
   "cell_type": "markdown",
   "metadata": {},
   "source": [
    "The first element of `xema_20181231_1400.json` is the following:\n",
    "```json\n",
    "   {\"id\": \"C6\", \"temp\": 2.1, \"hr\": 93.0, \"tdew\": 1.1, \"altitude\": 264.0, \"lat\": 41.6566, \"lon\": 0.95172, \"dist\": 0.8590799662714769}\n",
    "```\n",
    "\n",
    "Now, we define the paths of the altitude and distance to coast explanatory fields:"
   ]
  },
  {
   "cell_type": "code",
   "execution_count": null,
   "metadata": {},
   "outputs": [],
   "source": [
    "variables_files = ['../envmodsoft/data/explanatory/cat_dem_25831.tif', '../envmodsoft/data/explanatory/cat_distance_coast.tif']"
   ]
  },
  {
   "cell_type": "markdown",
   "metadata": {},
   "source": [
    "Since `loc_vars` are `lon` and `lat`, the `id_key` is `id`, the variable to interpolate is air temperature and it is labelled as the default (`temp`) and the explanatory variables are also the default ones, we can set the `data_format` parameter to `None`."
   ]
  },
  {
   "cell_type": "code",
   "execution_count": null,
   "metadata": {},
   "outputs": [],
   "source": [
    "data_format = None"
   ]
  },
  {
   "cell_type": "markdown",
   "metadata": {},
   "source": [
    "Finally, we select the residuals interpolation methodology. In this case we chose the inverse of the 3D distance, `id3d`."
   ]
  },
  {
   "cell_type": "code",
   "execution_count": null,
   "metadata": {},
   "outputs": [],
   "source": [
    "residuals_int = 'id3d'"
   ]
  },
  {
   "cell_type": "markdown",
   "metadata": {},
   "source": [
    "Now, we have initialized the three parameters that are common for the interpolation process that will be described below, either with or without clusters."
   ]
  },
  {
   "cell_type": "markdown",
   "metadata": {},
   "source": [
    "## Tutorial 4.2: Interpolation without clusters\n",
    "\n",
    "In this interpolation process, no clusters will be considered. Therefore, the `clusters` parameter will be set to `None`."
   ]
  },
  {
   "cell_type": "code",
   "execution_count": null,
   "metadata": {},
   "outputs": [],
   "source": [
    "clusters = None"
   ]
  },
  {
   "cell_type": "markdown",
   "metadata": {},
   "source": [
    "Now, we call the PyMica class and save the result into what we called `global_int`:"
   ]
  },
  {
   "cell_type": "code",
   "execution_count": null,
   "metadata": {},
   "outputs": [],
   "source": [
    "global_int = PyMica(data_file, variables_files, clusters, data_format, residuals_int)"
   ]
  },
  {
   "cell_type": "markdown",
   "metadata": {},
   "source": [
    "We save the interpolated field into a .tif file calling the `save_file` function of `PyMica` class and specifying the output path."
   ]
  },
  {
   "cell_type": "code",
   "execution_count": null,
   "metadata": {},
   "outputs": [],
   "source": [
    "global_int.save_file('../envmodsoft/output/tair_20161213_max_noclusters.tif')"
   ]
  },
  {
   "cell_type": "markdown",
   "metadata": {},
   "source": [
    "And we can also plot the interpolated field using the `plot_interpolation` function, specifically built for this example, which requires the path of the interpolated raster file and specifying the interpolated variable, in this case `temp`:"
   ]
  },
  {
   "cell_type": "code",
   "execution_count": null,
   "metadata": {},
   "outputs": [],
   "source": [
    "from plot_interpolation import plot_interpolation\n",
    "plot_interpolation('../envmodsoft/output/tair_20161213_max_noclusters.tif', 'temp')"
   ]
  },
  {
   "cell_type": "markdown",
   "metadata": {},
   "source": [
    "## Tutorial 4.3: Interpolation with clusters\n",
    "\n",
    "In this interpolation process, 3 and 6 clusters will be considered. Therefore, the `clusters` parameter will be set accordingly by defining the paths to the polygons and their rasters."
   ]
  },
  {
   "cell_type": "code",
   "execution_count": null,
   "metadata": {},
   "outputs": [],
   "source": [
    "clusters = {'clusters_files': ['../envmodsoft/clusters/clusters-3.json', '../envmodsoft/clusters/clusters-6.json'], \n",
    "            'mask_files': ['../envmodsoft/clusters/rasterized-clusters-3', '../envmodsoft/clusters/rasterized-clusters-6']}"
   ]
  },
  {
   "cell_type": "markdown",
   "metadata": {},
   "source": [
    "Now, we call the PyMica class and save the result into what we called `clusters_int`:"
   ]
  },
  {
   "cell_type": "code",
   "execution_count": null,
   "metadata": {},
   "outputs": [],
   "source": [
    "clusters_int = PyMica(data_file, variables_files, clusters, data_format, residuals_int)"
   ]
  },
  {
   "cell_type": "markdown",
   "metadata": {},
   "source": [
    "We save the interpolated field into a .tif file calling the `save_file` function of `PyMica` class and specifying the output path."
   ]
  },
  {
   "cell_type": "code",
   "execution_count": null,
   "metadata": {},
   "outputs": [],
   "source": [
    "clusters_int.save_file('../envmodsoft/output/tair_20161213_max_clusters.tif')"
   ]
  },
  {
   "cell_type": "markdown",
   "metadata": {},
   "source": [
    "And we can also plot the interpolated field using the `plot_interpolation` function, specifically built for this example, which requires the path of the interpolated raster file and specifying the interpolated variable, in this case `temp`:"
   ]
  },
  {
   "cell_type": "code",
   "execution_count": null,
   "metadata": {},
   "outputs": [],
   "source": [
    "from plot_interpolation import plot_interpolation\n",
    "plot_interpolation('../envmodsoft/output/tair_20161213_max_clusters.tif', 'temp')"
   ]
  }
 ],
 "metadata": {
  "kernelspec": {
   "display_name": "Python 3",
   "language": "python",
   "name": "python3"
  },
  "language_info": {
   "codemirror_mode": {
    "name": "ipython",
    "version": 3
   },
   "file_extension": ".py",
   "mimetype": "text/x-python",
   "name": "python",
   "nbconvert_exporter": "python",
   "pygments_lexer": "ipython3",
   "version": "3.7.3"
  }
 },
 "nbformat": 4,
 "nbformat_minor": 2
}
