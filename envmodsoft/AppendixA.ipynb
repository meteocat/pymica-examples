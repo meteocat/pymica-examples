{
 "cells": [
  {
   "cell_type": "markdown",
   "metadata": {},
   "source": [
    "# Appendix A: Residuals interpolation methodologies comparison\n",
    "\n",
    "Plots the same air interpolated field with different residual interpolation methodologies:\n",
    "\n",
    "a) Inverse of the 2D distance  \n",
    "b) Inverse of the 3D distance  \n",
    "c) Inverse of the distance weighting  \n",
    "\n",
    "In order to show the performance of the different interpolation methodologies, we will call the `pymica` class. For this purpose we will import it first."
   ]
  },
  {
   "cell_type": "code",
   "execution_count": null,
   "metadata": {},
   "outputs": [],
   "source": [
    "from pymica.pymica import PyMica"
   ]
  },
  {
   "cell_type": "markdown",
   "metadata": {},
   "source": [
    "Since we only want to show the residuals interpolation we will use the `pymica` class with a single Multiple Linear Regression (MLR). It receives five parameters:\n",
    "\n",
    "   - data_file: The path of the .json file with the point data\n",
    "   - variables_file: A list of the file(s) path(s) containing the fields of the explanatory variables used in the regression.  \n",
    "   - clusters: A dictionary with two keys {'clusters_files': path for the clusters definitions, 'mask files': path for the rasterized clusters}.  \n",
    "   - data_format: A dictionary with the name of the variables in the data file if they are not named as the default option. Defaults to ```{'loc_vars': ('lon', 'lat'), 'id_key': 'id', 'y_var': 'temp', 'x_vars': ('altitude', 'dist')}```  \n",
    "   - residuals_int: The indicator of the residuals interpolation methodology. Defaults to `'id2d'` (Inverse of the 2D distance). Methodologies available: `'id2d'`, `'id3d'` (Inverse of the 3D distance) and `'idw'` (Inverse of the Distance Weighting).\n",
    "   "
   ]
  },
  {
   "cell_type": "markdown",
   "metadata": {},
   "source": [
    "## Defining the parameters of PyMica class"
   ]
  },
  {
   "cell_type": "markdown",
   "metadata": {},
   "source": [
    "First, we have to define `data_file`, `variables_file`, `clusters` and `data_format` parameters of PyMica class."
   ]
  },
  {
   "cell_type": "code",
   "execution_count": null,
   "metadata": {},
   "outputs": [],
   "source": [
    "data_file = '../envmodsoft/data/observations/xema_20181024_0500.json'\n",
    "variables_file = ['../sample-data/explanatory/cat_dem_25831.tif', '../sample-data/explanatory/cat_distance_coast.tif']\n",
    "clusters = None # We set this argument to None in order to calculate a single MLR model\n",
    "data_format = None"
   ]
  },
  {
   "cell_type": "markdown",
   "metadata": {},
   "source": [
    "### Inverse of the 2D distance\n",
    "\n",
    "To obtain the interpolated field with the anomaly correction using the inverse of the 2D distance we must set `residuals_int` to `id2d`."
   ]
  },
  {
   "cell_type": "code",
   "execution_count": null,
   "metadata": {},
   "outputs": [],
   "source": [
    "id_2d = PyMica(data_file, variables_file, clusters, data_format, residuals_int='id2d')"
   ]
  },
  {
   "cell_type": "markdown",
   "metadata": {},
   "source": [
    "Now we can save the interpolated field into a .tif file calling the `save_file` function of `pymica` class and specifying the output path."
   ]
  },
  {
   "cell_type": "code",
   "execution_count": null,
   "metadata": {},
   "outputs": [],
   "source": [
    "id_2d.save_file('../envmodsoft/output/residuals_id2d.tif')"
   ]
  },
  {
   "cell_type": "markdown",
   "metadata": {},
   "source": [
    "Or we can plot a quicklook of it using the plot_temp function with the `result` attribute of the `pymica` class instance."
   ]
  },
  {
   "cell_type": "code",
   "execution_count": null,
   "metadata": {},
   "outputs": [],
   "source": [
    "from plot_interpolation import plot_interpolation\n",
    "plot_interpolation('../envmodsoft/output/residuals_id2d.tif', 'temp')"
   ]
  },
  {
   "cell_type": "markdown",
   "metadata": {},
   "source": [
    "### Inverse of the 3D distance\n",
    "\n",
    "To obtain the interpolated field with the anomaly correction using the inverse of the 3D distance we must set `residuals_int` to `id3d`."
   ]
  },
  {
   "cell_type": "code",
   "execution_count": null,
   "metadata": {},
   "outputs": [],
   "source": [
    "id_3d = PyMica(data_file, variables_file, clusters, data_format, residuals_int='id3d')"
   ]
  },
  {
   "cell_type": "markdown",
   "metadata": {},
   "source": [
    "Now we can save the interpolated field into a .tif file calling the `save_file` function of `pymica` class and specifying the output path."
   ]
  },
  {
   "cell_type": "code",
   "execution_count": null,
   "metadata": {},
   "outputs": [],
   "source": [
    "id_3d.save_file('../envmodsoft/output/residuals_id3d.tif')"
   ]
  },
  {
   "cell_type": "markdown",
   "metadata": {},
   "source": [
    "Or we can plot a quicklook of it using the plot_temp function with the `result` attribute of the `pymica` class instance."
   ]
  },
  {
   "cell_type": "code",
   "execution_count": null,
   "metadata": {},
   "outputs": [],
   "source": [
    "plot_interpolation('../envmodsoft/output/residuals_id3d.tif', 'temp')"
   ]
  },
  {
   "cell_type": "markdown",
   "metadata": {},
   "source": [
    "### Inverse of the distance weighting\n",
    "\n",
    "To obtain the interpolated field with the anomaly correction using the inverse of the distance weighting we must set `residuals_int` to `idw`."
   ]
  },
  {
   "cell_type": "code",
   "execution_count": null,
   "metadata": {},
   "outputs": [],
   "source": [
    "id_w = PyMica(data_file, variables_file, clusters, data_format, residuals_int='idw')"
   ]
  },
  {
   "cell_type": "markdown",
   "metadata": {},
   "source": [
    "Now we can save the interpolated field into a .tif file calling the `save_file` function of `pymica` class and specifying the output path."
   ]
  },
  {
   "cell_type": "code",
   "execution_count": null,
   "metadata": {},
   "outputs": [],
   "source": [
    "id_w.save_file('../envmodsoft/output/residuals_idw.tif')"
   ]
  },
  {
   "cell_type": "markdown",
   "metadata": {},
   "source": [
    "Or we can plot a quicklook of it using the plot_temp function with the `result` attribute of the `pymica` class instance."
   ]
  },
  {
   "cell_type": "code",
   "execution_count": null,
   "metadata": {},
   "outputs": [],
   "source": [
    "plot_interpolation('../envmodsoft/output/residuals_idw.tif', 'temp')"
   ]
  }
 ],
 "metadata": {
  "kernelspec": {
   "display_name": "Python [conda env:micaexamples] *",
   "language": "python",
   "name": "conda-env-micaexamples-py"
  },
  "language_info": {
   "codemirror_mode": {
    "name": "ipython",
    "version": 3
   },
   "file_extension": ".py",
   "mimetype": "text/x-python",
   "name": "python",
   "nbconvert_exporter": "python",
   "pygments_lexer": "ipython3",
   "version": "3.7.3"
  }
 },
 "nbformat": 4,
 "nbformat_minor": 2
}
