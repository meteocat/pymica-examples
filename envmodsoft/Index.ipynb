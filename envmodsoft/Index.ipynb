{
 "cells": [
  {
   "cell_type": "markdown",
   "metadata": {},
   "source": [
    "#  Appendices <img src=\"figures/logo.svg\" alt=\"drawing\" width=\"200\" align=\"left\"/>\n",
    "\n",
    "\n",
    "\n",
    "This notebook contains the index of the Appendices that appear in the paper submitted to this journal. A brief explanation and a link to the correspondant notebook is given below for each Appendix."
   ]
  },
  {
   "cell_type": "markdown",
   "metadata": {},
   "source": [
    "   - [Appendix A](AppendixA.ipynb): a comparison between the residual interpolation methodologies available in the pyMICA library.\n",
    "   - [Appendix B](AppendixB.ipynb): the methodology to obtain the distance to coast explanatory variable field to be used in the interpolation process.\n",
    "   - [Appendix C](AppendixC.ipynb): clustering of weather stations using K-Means and the rasterization of the resultant polygons.\n",
    "   - [Appendix D](AppendixD.ipynb): step by step tutorial to obtain air temperature interpolated fields using PyMica class with and without clusters."
   ]
  }
 ],
 "metadata": {
  "kernelspec": {
   "display_name": "Python [conda env:micaexamples] *",
   "language": "python",
   "name": "conda-env-micaexamples-py"
  },
  "language_info": {
   "codemirror_mode": {
    "name": "ipython",
    "version": 3
   },
   "file_extension": ".py",
   "mimetype": "text/x-python",
   "name": "python",
   "nbconvert_exporter": "python",
   "pygments_lexer": "ipython3",
   "version": "3.7.3"
  }
 },
 "nbformat": 4,
 "nbformat_minor": 2
}
