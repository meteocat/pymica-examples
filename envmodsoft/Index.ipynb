{
 "cells": [
  {
   "cell_type": "markdown",
   "metadata": {},
   "source": [
    "#  Appendix A <img src=\"figures/logo.svg\" alt=\"drawing\" width=\"200\" align=\"left\"/>\n",
    "\n",
    "\n",
    "\n",
    "This notebook contains the index of the tutorials that appear in the paper submitted to Environmental Modelling & Software. A brief explanation and a link to the correspondant notebook is given below for each tutorial."
   ]
  },
  {
   "cell_type": "markdown",
   "metadata": {},
   "source": [
    "   - [Tutorial 1](Tutorial1.ipynb): a comparison between the residual interpolation methodologies available in the pyMICA library.\n",
    "   - [Tutorial 2](Tutorial2.ipynb): the methodology to obtain the distance to coast explanatory variable field to be used in the interpolation process.\n",
    "   - [Tutorial 3](Tutorial3.ipynb): clustering of weather stations using K-Means and the rasterization of the resultant polygons.\n",
    "   - [Tutorial 4](Tutorial4.ipynb): step by step tutorial to obtain air temperature interpolated fields using PyMica class with and without clusters."
   ]
  }
 ],
 "metadata": {
  "kernelspec": {
   "display_name": "Python [conda env:micaexamples] *",
   "language": "python",
   "name": "conda-env-micaexamples-py"
  },
  "language_info": {
   "codemirror_mode": {
    "name": "ipython",
    "version": 3
   },
   "file_extension": ".py",
   "mimetype": "text/x-python",
   "name": "python",
   "nbconvert_exporter": "python",
   "pygments_lexer": "ipython3",
   "version": "3.7.3"
  }
 },
 "nbformat": 4,
 "nbformat_minor": 2
}
