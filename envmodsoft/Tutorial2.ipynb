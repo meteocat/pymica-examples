{
 "cells": [
  {
   "cell_type": "markdown",
   "metadata": {},
   "source": [
    "# Tutorial 2: Distance to coast calculations\n",
    "\n",
    "In this notebook, we'll show how to calculate the distances between the stations of our network to a coast line and transform it with an exponential function. In addition, we'll obtain a distance to coast field ready to use it as an explanatory variable for interpolation purposes.\n",
    "\n",
    "## Calculate distance from stations to the coastline\n",
    "\n",
    "If we want to know the distance to coast in meters of every station in our network, `get_distances` function provides it. Then, once the distances are known, the following logarithmic function (`dist2func`) is used to get the distance to coast function value.\n",
    "\n",
    "$d_{coast} = 1 - e^{-\\dfrac{3\\cdot dist}{D}}$,\n",
    "\n",
    "where $d_{coast}$ is the resultant distance to coast of the function, *dist* is the Euclidean distance from a point to the coast line and *D* is the distance where the distance to coast is cancelled.\n",
    "\n",
    "First we'll import both functions (`get distances` and `dist2func`) and then call them."
   ]
  },
  {
   "cell_type": "code",
   "execution_count": null,
   "metadata": {},
   "outputs": [],
   "source": [
    "from distance.distance_to_sea import get_distances, dist2func"
   ]
  },
  {
   "cell_type": "markdown",
   "metadata": {},
   "source": [
    "`get_distances` receives as parameters a list of longitude and latitude points. As an example we'll calculate the distance to coast function value for two stations. One with longitude 1$^{\\circ}$ and latitude 41$^{\\circ}$, and another one with 0.5$^{\\circ}$ and 40$^{\\circ}$ for longitude and latitude, respectively.\n",
    "\n",
    "First, we calculate the distances to coast in meters."
   ]
  },
  {
   "cell_type": "code",
   "execution_count": null,
   "metadata": {},
   "outputs": [],
   "source": [
    "points = [[1, 41], [0.5, 40]]\n",
    "dist_file = '../sample-data/explanatory/cat_coast_line.json'\n",
    "dcoast_points = get_distances(points, dist_file)\n",
    "print('Station 1: ' + str(dcoast_points[0]) + ' m')\n",
    "print('Station 2: ' + str(dcoast_points[1]) + ' m')"
   ]
  },
  {
   "cell_type": "markdown",
   "metadata": {},
   "source": [
    "Now, with the `dcoast_points`, we can call `dist2func` which apply the above-mentioned logarithmic function."
   ]
  },
  {
   "cell_type": "code",
   "execution_count": null,
   "metadata": {},
   "outputs": [],
   "source": [
    "print('Distance to coast function:')\n",
    "for i in range(len(dcoast_points)):\n",
    "    print('    Station ' + str(i+1) + ': ' + str(dist2func(dcoast_points[i])))"
   ]
  },
  {
   "cell_type": "markdown",
   "metadata": {},
   "source": [
    "## Create distance to coast explanatory field\n",
    "\n",
    "The distance to coast raster is built using `get_dist_array` function. Now, we'll import it."
   ]
  },
  {
   "cell_type": "code",
   "execution_count": null,
   "metadata": {},
   "outputs": [],
   "source": [
    "from distance.distance_to_sea import get_dist_array"
   ]
  },
  {
   "cell_type": "markdown",
   "metadata": {},
   "source": [
    "The `get_dist_array` function returns a matrix with the distance to sea values. It receives as parameters:\n",
    "\n",
    "   - proj        : The EPSG code for the output matrix projection  \n",
    "   - geotransform: The output raster geotransform\n",
    "   - size        : The output raster size\n",
    "   - dist_file   : The path to an ogr compatible file with a line containing the shore geometry\n",
    "\n",
    "Now, we'll call the `get_dist_array_function`."
   ]
  },
  {
   "cell_type": "code",
   "execution_count": null,
   "metadata": {},
   "outputs": [],
   "source": [
    "dist_file = '../sample-data/explanatory/cat_coast_line.json'\n",
    "dcoast_array = get_dist_array(proj=25831,\n",
    "                              geotransform=[260000, 270, 0, 4750000, 0, -270],\n",
    "                              size=[1000, 970],\n",
    "                              dist_file=dist_file)"
   ]
  },
  {
   "cell_type": "markdown",
   "metadata": {},
   "source": [
    "Now we'll save the `dcoast_array` as a .tiff image in order to keep it for further steps in pyMICA. For this purpose, we'll define the `get_tif_from_array` function and then, call it. It requires the destination file path with the name of the file included, the data to include in the .tiff, the geotransform and the EPSG projection of the .tif file."
   ]
  },
  {
   "cell_type": "code",
   "execution_count": null,
   "metadata": {},
   "outputs": [],
   "source": [
    "from osgeo import gdal, osr\n",
    "\n",
    "def get_tif_from_array(file_path, data, geotransform, projection):\n",
    "    '''\n",
    "    Reads an array and returns a .tif\n",
    "    Args:\n",
    "        file_path (str): The path of the .tiff file to be saved\n",
    "        data (array): Array of data to be transformed\n",
    "        geotransform (array): Geotransform for the .tif file\n",
    "        projection (int): EPSG projection code of the .tif file\n",
    "    '''\n",
    "    driver = gdal.GetDriverByName('GTiff')\n",
    "    ds_out = driver.Create(file_path, data.shape[1], data.shape[0], 1, gdal.GDT_Float32)\n",
    "    ds_out.GetRasterBand(1).WriteArray(data)\n",
    "    ds_out.GetRasterBand(1).SetNoDataValue(0)\n",
    "    ds_out.SetGeoTransform(geotransform)\n",
    "    spatialRef = osr.SpatialReference()\n",
    "    spatialRef.ImportFromEPSG(projection)\n",
    "    ds_out.SetProjection(str(spatialRef))\n",
    "\n",
    "    ds_out = None"
   ]
  },
  {
   "cell_type": "code",
   "execution_count": null,
   "metadata": {},
   "outputs": [],
   "source": [
    "get_tif_from_array(file_path = '../sample-data/results/dcoast_sample.tif',\n",
    "                   data = dcoast_array,\n",
    "                   geotransform = [260000, 270, 0, 4750000, 0, -270],\n",
    "                   projection = 25831)"
   ]
  },
  {
   "cell_type": "markdown",
   "metadata": {},
   "source": [
    "Now, a .tif file including the dcoast_array is saved in ./notebooks/preprocessing/dcoast.tiff\n",
    "\n",
    "If we want to have a quick look on dcoast_array we can plot it using imshow."
   ]
  },
  {
   "cell_type": "code",
   "execution_count": null,
   "metadata": {},
   "outputs": [],
   "source": [
    "import matplotlib.pyplot as plt\n",
    "plt.imshow(dcoast_array)\n",
    "plt.show()"
   ]
  },
  {
   "cell_type": "markdown",
   "metadata": {},
   "source": [
    "The required raster fields where the regression models will be applied have been created."
   ]
  }
 ],
 "metadata": {
  "kernelspec": {
   "display_name": "Python [conda env:micaexamples] *",
   "language": "python",
   "name": "conda-env-micaexamples-py"
  },
  "language_info": {
   "codemirror_mode": {
    "name": "ipython",
    "version": 3
   },
   "file_extension": ".py",
   "mimetype": "text/x-python",
   "name": "python",
   "nbconvert_exporter": "python",
   "pygments_lexer": "ipython3",
   "version": "3.7.3"
  }
 },
 "nbformat": 4,
 "nbformat_minor": 2
}
