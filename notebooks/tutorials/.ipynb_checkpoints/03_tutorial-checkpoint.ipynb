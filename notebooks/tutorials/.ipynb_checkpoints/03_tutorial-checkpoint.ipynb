{
 "cells": [
  {
   "cell_type": "markdown",
   "metadata": {},
   "source": [
    "<a id='3_tutorial'></a>\n",
    "# Tutorial 3"
   ]
  },
  {
   "cell_type": "markdown",
   "metadata": {},
   "source": [
    "In this part of the tutorial and with all required data built and available in correspondent folders, we'll obtain an air temperature interpolated field. For this purpose we'll use PyMica class, which needs as parameters the following ones:\n",
    "\n",
    "   - data_file: The path of the .json file with the point data\n",
    "   - variables_file: A list of the file(s) path(s) containing the fields of the explanatory variables used in the regression. For more information on these fields, please see [Explanatory data](../preprocessing/pre_processing.ipynb) section.\n",
    "   - clusters: A dictionary with two keys {'clusters_files': path for the clusters definitions, 'mask files': path for the rasterized clusters}. Form more information on these fields, please see [Clusters](../preprocessing/pre_processing.ipynb) section.\n",
    "   - data_format: A dictionary with the name of the variables in the data file if they are not named as the default option. Defaults to ```{'loc_vars': ('lon', 'lat'), 'id_key': 'id', 'y_var': 'temp', 'x_vars': ('altitude', 'dist')}```\n",
    "\n",
    "Before starting with different interpolation examples, we must import the PyMica class. We also import matplotlib in order to plot the result."
   ]
  },
  {
   "cell_type": "code",
   "execution_count": 1,
   "metadata": {},
   "outputs": [
    {
     "ename": "ModuleNotFoundError",
     "evalue": "No module named 'pymica'",
     "output_type": "error",
     "traceback": [
      "\u001b[0;31m---------------------------------------------------------------------------\u001b[0m",
      "\u001b[0;31mModuleNotFoundError\u001b[0m                       Traceback (most recent call last)",
      "\u001b[0;32m<ipython-input-1-e6349ed94a06>\u001b[0m in \u001b[0;36m<module>\u001b[0;34m\u001b[0m\n\u001b[1;32m      1\u001b[0m \u001b[0;34m\u001b[0m\u001b[0m\n\u001b[1;32m      2\u001b[0m \u001b[0;32mimport\u001b[0m \u001b[0mmatplotlib\u001b[0m\u001b[0;34m.\u001b[0m\u001b[0mpyplot\u001b[0m \u001b[0;32mas\u001b[0m \u001b[0mplt\u001b[0m\u001b[0;34m\u001b[0m\u001b[0;34m\u001b[0m\u001b[0m\n\u001b[0;32m----> 3\u001b[0;31m \u001b[0;32mfrom\u001b[0m \u001b[0mpymica\u001b[0m\u001b[0;34m.\u001b[0m\u001b[0mpymica\u001b[0m \u001b[0;32mimport\u001b[0m \u001b[0mPyMica\u001b[0m\u001b[0;34m\u001b[0m\u001b[0;34m\u001b[0m\u001b[0m\n\u001b[0m",
      "\u001b[0;31mModuleNotFoundError\u001b[0m: No module named 'pymica'"
     ]
    }
   ],
   "source": [
    "import os\n",
    "os.chdir('../../../')\n",
    "import matplotlib.pyplot as plt\n",
    "from pymica.pymica import PyMica"
   ]
  },
  {
   "cell_type": "markdown",
   "metadata": {},
   "source": [
    "Since data_file, variables_file and data_format will be the same for the examples below, we'll define them now."
   ]
  },
  {
   "cell_type": "code",
   "execution_count": null,
   "metadata": {},
   "outputs": [],
   "source": [
    "data_file = './docs/notebooks/tutorials/cat/data/smc_data.json'\n",
    "variables_file = ['./docs/notebooks/tutorials/cat/explanatory/cat_dem_25831.tif',\n",
    "                  './docs/notebooks/tutorials/cat/explanatory/cat_distance_coast.tif']\n",
    "data_format = {'loc_vars': ('lon', 'lat'),\n",
    "               'id_key': 'id',\n",
    "               'y_var': 'temp',\n",
    "               'x_vars': ('altitude', 'dist')}"
   ]
  },
  {
   "cell_type": "markdown",
   "metadata": {},
   "source": [
    "The examples in this tutorial are:\n",
    "\n",
    "   - [3.1 Interpolation without clusters](#int_noclusters)\n",
    "   - [3.2 Interpolation with one number of clusters](#int_onecluster)\n",
    "   - [3.3 Interpolation with more than one number of clusters](#int_clusters)\n",
    " \n",
    "    "
   ]
  },
  {
   "cell_type": "markdown",
   "metadata": {},
   "source": [
    "<a id='int_noclusters'></a>\n",
    "### 3.1 Interpolation without clusters\n",
    "\n",
    "In this example, no clusters will be considered, then ```clusters``` PyMica class parameter will be set to ```None```. "
   ]
  },
  {
   "cell_type": "code",
   "execution_count": null,
   "metadata": {},
   "outputs": [],
   "source": [
    "clusters = None"
   ]
  },
  {
   "cell_type": "markdown",
   "metadata": {},
   "source": [
    "Now, we're ready to call PyMica class!"
   ]
  },
  {
   "cell_type": "code",
   "execution_count": null,
   "metadata": {},
   "outputs": [],
   "source": [
    "noclusters_int = PyMica(data_file, variables_file, clusters, data_format)"
   ]
  },
  {
   "cell_type": "markdown",
   "metadata": {},
   "source": [
    "Now we can save the result into a .tif file using PyMica ```save_file``` function:"
   ]
  },
  {
   "cell_type": "code",
   "execution_count": null,
   "metadata": {},
   "outputs": [],
   "source": [
    "noclusters_int.save_file('./docs/notebooks/tutorials/cat/results/no_cluster_int.tif')"
   ]
  },
  {
   "cell_type": "markdown",
   "metadata": {},
   "source": [
    "But, we can also plot a quick look of the interpolated field, with ```noclusters_int``` result attribute."
   ]
  },
  {
   "cell_type": "code",
   "execution_count": null,
   "metadata": {},
   "outputs": [],
   "source": [
    "plt.imshow(noclusters_int.result)\n",
    "cbar = plt.colorbar()\n",
    "cbar.set_label('Temperature \\u00b0C')\n",
    "plt.show()"
   ]
  },
  {
   "cell_type": "markdown",
   "metadata": {},
   "source": [
    "<a id='int_onecluster'></a>\n",
    "### 3.2 Interpolation with one number of clusters\n",
    "\n",
    "Now, we'll consider number of clusters 2. Rembember that PyMica will only keep those number of clusters that reduce the error of the field obtained when no clusters are considered.\n",
    "\n",
    "Then, we set ```clusters``` parameters as follows:"
   ]
  },
  {
   "cell_type": "code",
   "execution_count": null,
   "metadata": {},
   "outputs": [],
   "source": [
    "clusters = {'clusters_files':['./docs/notebooks/tutorials/cat/clusters/clusters_2.json'],\n",
    "            'mask_files':['./docs/notebooks/tutorials/cat/clusters/clusters_2_mask']}"
   ]
  },
  {
   "cell_type": "markdown",
   "metadata": {},
   "source": [
    "And now, we call PyMica class:"
   ]
  },
  {
   "cell_type": "code",
   "execution_count": null,
   "metadata": {},
   "outputs": [],
   "source": [
    "cluster_2_int = PyMica(data_file, variables_file, clusters, data_format)"
   ]
  },
  {
   "cell_type": "markdown",
   "metadata": {},
   "source": [
    "Now we can save the result into a .tif file using PyMica ```save_file``` function:"
   ]
  },
  {
   "cell_type": "code",
   "execution_count": null,
   "metadata": {},
   "outputs": [],
   "source": [
    "cluster_2_int.save_file('./docs/notebooks/tutorials/cat/results/cluster_2_int.tif')"
   ]
  },
  {
   "cell_type": "markdown",
   "metadata": {},
   "source": [
    "But, we can also plot a quick look of the interpolated field, with ```cluster_2_int``` result attribute."
   ]
  },
  {
   "cell_type": "code",
   "execution_count": null,
   "metadata": {},
   "outputs": [],
   "source": [
    "plt.imshow(cluster_2_int.result)\n",
    "cbar = plt.colorbar()\n",
    "cbar.set_label('Temperature \\u00b0C')\n",
    "plt.show()"
   ]
  },
  {
   "cell_type": "markdown",
   "metadata": {},
   "source": [
    "<a id='int_clusters'></a>\n",
    "### 3.3 Interpolation with more than one number of clusters"
   ]
  },
  {
   "cell_type": "markdown",
   "metadata": {},
   "source": [
    "Now, we'll consider number of clusters 2 and 4. Rembember that PyMica will only keep those number of clusters that reduce the error of the field obtained when no clusters are considered.\n",
    "\n",
    "Then, we set ```clusters``` parameters as follows:"
   ]
  },
  {
   "cell_type": "code",
   "execution_count": null,
   "metadata": {},
   "outputs": [],
   "source": [
    "clusters = {'clusters_files':['./docs/notebooks/tutorials/cat/clusters/clusters_2.json',\n",
    "                              './docs/notebooks/tutorials/cat/clusters/clusters_4.json'],\n",
    "            'mask_files':['./docs/notebooks/tutorials/cat/clusters/clusters_2_mask',\n",
    "                          './docs/notebooks/tutorials/cat/clusters/clusters_4_mask']}"
   ]
  },
  {
   "cell_type": "markdown",
   "metadata": {},
   "source": [
    "And now, we call PyMica class:"
   ]
  },
  {
   "cell_type": "code",
   "execution_count": null,
   "metadata": {},
   "outputs": [],
   "source": [
    "clusters_int = PyMica(data_file, variables_file, clusters, data_format)"
   ]
  },
  {
   "cell_type": "markdown",
   "metadata": {},
   "source": [
    "Now we can save the result into a .tif file using PyMica ```save_file``` function:"
   ]
  },
  {
   "cell_type": "code",
   "execution_count": null,
   "metadata": {},
   "outputs": [],
   "source": [
    "clusters_int.save_file('./docs/notebooks/tutorials/cat/results/clusters_int.tif')"
   ]
  },
  {
   "cell_type": "markdown",
   "metadata": {},
   "source": [
    "But, we can also plot a quick look of the interpolated field, with ```clusters_int``` result attribute."
   ]
  },
  {
   "cell_type": "code",
   "execution_count": null,
   "metadata": {},
   "outputs": [],
   "source": [
    "plt.imshow(clusters_int.result)\n",
    "cbar = plt.colorbar()\n",
    "cbar.set_label('Temperature \\u00b0C')\n",
    "plt.show()"
   ]
  },
  {
   "cell_type": "markdown",
   "metadata": {},
   "source": [
    "## Finish!\n",
    "\n",
    "#### Now you can modify and change data, add more number of clusters, design your own clusters...!"
   ]
  }
 ],
 "metadata": {
  "kernelspec": {
   "display_name": "Python 3",
   "language": "python",
   "name": "python3"
  },
  "language_info": {
   "codemirror_mode": {
    "name": "ipython",
    "version": 3
   },
   "file_extension": ".py",
   "mimetype": "text/x-python",
   "name": "python",
   "nbconvert_exporter": "python",
   "pygments_lexer": "ipython3",
   "version": "3.7.2"
  }
 },
 "nbformat": 4,
 "nbformat_minor": 2
}
