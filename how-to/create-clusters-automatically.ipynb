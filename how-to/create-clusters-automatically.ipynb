{
 "cells": [
  {
   "cell_type": "markdown",
   "metadata": {},
   "source": [
    "# Create clusters automatically"
   ]
  },
  {
   "cell_type": "markdown",
   "metadata": {},
   "source": [
    "MICA system is based on applying different regional regression models. But before the application of the models, the regions must be defined. These regions can be delimited by administrative boundaries, climatically or as in the present case, automatically.\n",
    "\n",
    "We'll use the K-Means algorithm to group stations. It is implemented using [SciKit-Learn](https://scikit-learn.org/stable/) package.\n",
    "\n",
    "First, we'll load the required modules from PyMica package, in this case, `create_clusters`."
   ]
  },
  {
   "cell_type": "code",
   "execution_count": 1,
   "metadata": {},
   "outputs": [],
   "source": [
    "from cluster.create_clusters import create_clusters"
   ]
  },
  {
   "cell_type": "markdown",
   "metadata": {},
   "source": [
    "The `create_clusters` function receives two parameters:\n",
    "\n",
    "1. Stations data file path\n",
    "\n",
    "   The path of a .json file containing a list of the stations to group. Each station must have its identification (id) longitude (lon), latitude (lat) and altitude (alt).\n",
    "   An example can be seen in sample_station_metadata.json (REF github al fitxer) which contains the automatic weather stations network of the Meteorological Service of Catalonia. The first element of the list in the abovem-entioned file is the following:\n",
    "   ```json\n",
    "   {\"id\": \"AN\", \n",
    "    \"alt\": 7.5,\n",
    "    \"lon\": 2.18091,\n",
    "    \"lat\": 41.39004}\n",
    "   ```\n",
    "\n",
    "2. Number of clusters\n",
    "\n",
    "   The K-Means algorithm allows to chose the resultant number of clusters in which the stations are grouped."
   ]
  },
  {
   "cell_type": "markdown",
   "metadata": {},
   "source": [
    "Now, we'll call the `create_clusters` function with the .json file path and with 3 as the resultant number of clusters.\n",
    "\n",
    "A webservice will prompt up. There you can download the built clusters in a GeoJSON format. In addition, it's possible to modify the automatic classification made by K-Means and then download them with the modifications."
   ]
  },
  {
   "cell_type": "markdown",
   "metadata": {},
   "source": [
    "`create_clusters('../sample-data/data/smc_metadata.json', 3)`"
   ]
  },
  {
   "cell_type": "markdown",
   "metadata": {},
   "source": [
    "The .json extension downloaded file contains the boundaries of each cluster. Then, it can be opened with a GIS software and modified by the user if necessary."
   ]
  }
 ],
 "metadata": {
  "kernelspec": {
   "display_name": "Python 3",
   "language": "python",
   "name": "python3"
  },
  "language_info": {
   "codemirror_mode": {
    "name": "ipython",
    "version": 3
   },
   "file_extension": ".py",
   "mimetype": "text/x-python",
   "name": "python",
   "nbconvert_exporter": "python",
   "pygments_lexer": "ipython3",
   "version": "3.7.3"
  }
 },
 "nbformat": 4,
 "nbformat_minor": 2
}
