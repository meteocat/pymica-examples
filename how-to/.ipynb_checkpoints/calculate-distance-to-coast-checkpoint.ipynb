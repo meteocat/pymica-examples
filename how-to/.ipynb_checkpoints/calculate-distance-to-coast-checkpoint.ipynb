{
 "cells": [
  {
   "cell_type": "markdown",
   "metadata": {},
   "source": [
    "# Calculate distance from stations to coast line"
   ]
  },
  {
   "cell_type": "markdown",
   "metadata": {},
   "source": [
    "If we want to know the distance to coast in meters of every station in our network, `get_distances` function provides it. Then, once the distances are known, the following logarithmic function (`dist2func`) is used to get the distance to coast function value.\n",
    "\n",
    "$d_{coast} = 1 - e^{-\\dfrac{3\\cdot dist}{D}}$,\n",
    "\n",
    "where $d_{coast}$ is the resultant distance to coast of the function, *dist* is the Euclidean distance from a point to the coast line and *D* is the distance where the distance to coast is cancelled.\n",
    "\n",
    "First we'll import both functions (`get distances` and `dist2func`) and then call them."
   ]
  },
  {
   "cell_type": "code",
   "execution_count": null,
   "metadata": {},
   "outputs": [],
   "source": [
    "from distance.distance_to_sea import get_distances, dist2func"
   ]
  },
  {
   "cell_type": "markdown",
   "metadata": {},
   "source": [
    "`get_distances` receives as parameters a list of longitude and latitude points. As an example we'll calculate the distance to coast function value for two stations. One with longitude 1$^{\\circ}$ and latitude 41$^{\\circ}$, and another one with 0.5$^{\\circ}$ and 40$^{\\circ}$ for longitude and latitude, respectively.\n",
    "\n",
    "First, we calculate the distances to coast in meters."
   ]
  },
  {
   "cell_type": "code",
   "execution_count": null,
   "metadata": {},
   "outputs": [],
   "source": [
    "points = [[1, 41], [0.5, 40]]\n",
    "dist_file = '../sample-data/explanatory/cat_coast_line.json'\n",
    "dcoast_points = get_distances(points, dist_file)\n",
    "print('Station 1: ' + str(dcoast_points[0]) + ' m')\n",
    "print('Station 2: ' + str(dcoast_points[1]) + ' m')"
   ]
  },
  {
   "cell_type": "markdown",
   "metadata": {},
   "source": [
    "Now, with the `dcoast_points`, we can call `dist2func` which apply the above-mentioned logarithmic function."
   ]
  },
  {
   "cell_type": "code",
   "execution_count": null,
   "metadata": {},
   "outputs": [],
   "source": [
    "print('Distance to coast function:')\n",
    "for i in range(len(dcoast_points)):\n",
    "    print('    Station ' + str(i+1) + ': ' + str(dist2func(dcoast_points[i])))"
   ]
  }
 ],
 "metadata": {
  "kernelspec": {
   "display_name": "Python 3",
   "language": "python",
   "name": "python3"
  },
  "language_info": {
   "codemirror_mode": {
    "name": "ipython",
    "version": 3
   },
   "file_extension": ".py",
   "mimetype": "text/x-python",
   "name": "python",
   "nbconvert_exporter": "python",
   "pygments_lexer": "ipython3",
   "version": "3.7.3"
  }
 },
 "nbformat": 4,
 "nbformat_minor": 2
}
