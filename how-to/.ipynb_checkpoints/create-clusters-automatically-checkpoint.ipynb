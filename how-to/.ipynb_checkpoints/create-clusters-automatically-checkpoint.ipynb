{
 "cells": [
  {
   "cell_type": "markdown",
   "metadata": {},
   "source": [
    "# Create clusters automatically"
   ]
  },
  {
   "cell_type": "markdown",
   "metadata": {},
   "source": [
    "MICA system is based on applying different regional regression models. But before the application of the models, the regions must be defined. These regions can be delimited by administrative boundaries, climatically or as in the present case, automatically.\n",
    "\n",
    "We'll use the K-Means algorithm to group statations. It is implemented using [SciKit-Learn](https://scikit-learn.org/stable/) package.\n",
    "\n",
    "First, we'll load the required modules from PyMica package, in this case, `create_clusters`."
   ]
  },
  {
   "cell_type": "code",
   "execution_count": 21,
   "metadata": {},
   "outputs": [],
   "source": [
    "from cluster.create_clusters import create_clusters"
   ]
  },
  {
   "cell_type": "markdown",
   "metadata": {},
   "source": [
    "The `create_clusters` function receives two parameters:\n",
    "\n",
    "1. Stations data file path\n",
    "\n",
    "   The path of a .json file containing a list of the stations to group. Each station must have its identification (id) longitude (lon), latitude (lat) and altitude (alt).\n",
    "   An example can be seen in sample_station_metadata.json (REF github al fitxer) which contains the automatic weather stations network of the Meteorological Service of Catalonia. The first element of the list in the abovementioned file is the following:\n",
    "   ```json\n",
    "   {\"id\": \"AN\", \n",
    "    \"alt\": 7.5,\n",
    "    \"lon\": 2.18091,\n",
    "    \"lat\": 41.39004}\n",
    "   ```\n",
    "\n",
    "2. Number of clusters\n",
    "\n",
    "   The K-Means algorithm allows to chose the resultant number of clusters in which the stations are grouped."
   ]
  },
  {
   "cell_type": "markdown",
   "metadata": {},
   "source": [
    "Now, we'll call the `create_clusters` function with the .json file path and with 3 as the resultant number of clusters.\n",
    "\n",
    "A webservice will prompt up. There you can download the built clusters in a GeoJSON format. In addition, it's possible to modify the automatic classification made by K-Means and then download them with the modifications."
   ]
  },
  {
   "cell_type": "code",
   "execution_count": 2,
   "metadata": {},
   "outputs": [],
   "source": [
    "create_clusters('../sample-data/data/sample_station_metadata.json', 3)"
   ]
  },
  {
   "cell_type": "markdown",
   "metadata": {},
   "source": [
    "The .json extension downloaded file contains the boundaries of each cluster. Then, it can be opened with a GIS software and modified by the user if necessary. Otherwise, the file is ready for the next step."
   ]
  },
  {
   "cell_type": "markdown",
   "metadata": {},
   "source": [
    "### 2. Creation of the rasterized clusters"
   ]
  },
  {
   "cell_type": "markdown",
   "metadata": {},
   "source": [
    "Once the clusters are defined, either automatically or following other criteria, they must be rasterized to be used by the pyMICA functions.\n",
    "\n",
    "In this section cluster polygons are rasterized and blurred. Raster matrices obtained are 1 inside the polygon area and 0 outside of it. In order to avoid a sharp transition when merging clusters, a blurring effect is performed.\n",
    "\n",
    "For this purpose we'll use the `rasterize_clusters` function which receives a .json file path and a `Dict` with the output properties as parameters. Therfore, we'll import `rasterize_clusters` function from create_cluster_files.py module. In addition, `create_repreojected_geoms` will be also imported to transform longitude and latitude coordinates projection into UTM."
   ]
  },
  {
   "cell_type": "code",
   "execution_count": 25,
   "metadata": {},
   "outputs": [],
   "source": [
    "from cluster.create_cluster_files import rasterize_clusters, create_reprojected_geoms"
   ]
  },
  {
   "cell_type": "markdown",
   "metadata": {},
   "source": [
    "First, we'll use `create_reprojected_geoms` to transform the clusters .json file projection from longitude and latitude coordinates to a desired EPSG. In the present case, 25831. We'll keep the output of this function to pass it as a parameter in `rasterize_clusters` function."
   ]
  },
  {
   "cell_type": "code",
   "execution_count": 26,
   "metadata": {},
   "outputs": [],
   "source": [
    "clusters_layer = create_reprojected_geoms('/home/ecm/Doctorat/PROSVAL/mica/clusters_2/5_clusters.json', 25831)"
   ]
  },
  {
   "cell_type": "markdown",
   "metadata": {},
   "source": [
    "Now we'll rasterize the above layer. `rasterize_clusters` function receives two parameters:\n",
    "\n",
    "1. Clusters .json file path or an ogr datasource object.\n",
    "   \n",
    "   A file with clusters boundaries with the same format to that obtained in the above Section. It can be the one obtained automatically or a set of clusters designed by the user. It can also receive and ogr datasource object.\n",
    "   \n",
    "   \n",
    "2. Output properties\n",
    "\n",
    "   out_file    : the output file path and name.  \n",
    "   size        : the output raster size.  \n",
    "   geotransform: the output raster geotransform.  \n",
    "   \n",
    "\n",
    "We'll pass the `clusters_layer` obtained layer as the first parameter of the `rasterize_clusters` function.\n",
    "\n",
    "In this case we'll set out_file as `'./notebooks/clusters/rasterized_clusters'`. The two remaining parameters will be set in accordance with the extent and resolution of the final interpolated field we want to obtain. In this example:"
   ]
  },
  {
   "cell_type": "code",
   "execution_count": 29,
   "metadata": {},
   "outputs": [],
   "source": [
    "out_properties = {'out_file'    : '/home/ecm/Doctorat/PROSVAL/mica/clusters_2/rasterized_clusters_5',\n",
    "                  'size'        : [1000, 970],\n",
    "                  'geotransform': [260000, 270, 0, 4750000, 0, -270]}"
   ]
  },
  {
   "cell_type": "markdown",
   "metadata": {},
   "source": [
    "Now, we call the `rasterize_clusters` function."
   ]
  },
  {
   "cell_type": "code",
   "execution_count": 30,
   "metadata": {},
   "outputs": [],
   "source": [
    "rasterize_clusters(clusters_layer, out_properties)"
   ]
  },
  {
   "cell_type": "markdown",
   "metadata": {},
   "source": [
    "The clusters are rasterized and saved as a .TIFF. Now, we have finished the first part of pre-processing!"
   ]
  },
  {
   "cell_type": "markdown",
   "metadata": {},
   "source": [
    "<a id='explanatory_data'></a>\n",
    "### 3. Explanatory data fields"
   ]
  },
  {
   "cell_type": "markdown",
   "metadata": {},
   "source": [
    "MICA system works with Multiple Linear Regressions (MLR) whose independent variables are known as explanatory variables. These variables fields are needed in order to interpolate the regression models. Then, before starting the MLR models calculation and the interpolation itself, we need to prepare the explanatory data fields."
   ]
  },
  {
   "cell_type": "markdown",
   "metadata": {},
   "source": [
    "#### Altitude"
   ]
  },
  {
   "cell_type": "markdown",
   "metadata": {},
   "source": [
    "A Digital Elevation Model (DEM) with the extent and resolution of the final interpolated field we want to obtain. It must be a raster image."
   ]
  },
  {
   "cell_type": "markdown",
   "metadata": {},
   "source": [
    "#### Distance to coast"
   ]
  },
  {
   "cell_type": "markdown",
   "metadata": {},
   "source": [
    "This raster is built using a logarithmic function $d_{coast} = 1 - e^{-\\dfrac{3\\cdot dist}{D}}$, where $d_{coast}$ is the resultant distance to coast of the function, *dist* is the Euclidean distance from a point to the coast line and *D* is the distance where the distance to coast is cancelled.\n",
    "\n",
    "The distance to coast raster is built using `get_dist_array` function. Now, we'll import it."
   ]
  },
  {
   "cell_type": "code",
   "execution_count": 2,
   "metadata": {},
   "outputs": [],
   "source": [
    "from distance.distance_to_sea import get_dist_array"
   ]
  },
  {
   "cell_type": "markdown",
   "metadata": {},
   "source": [
    "The `get_dist_array` function returns a matrix with the distance to sea values. It receives as parameters:\n",
    "\n",
    "   - proj        : The EPSG code for the output matrix projection  \n",
    "   - geotransform: The output raster geotransform\n",
    "   - size        : The output raster size\n",
    "   - dist_file   : The path to an ogr compatible file with a line containing the shore geometry\n",
    "\n",
    "Now, we'll call the `get_dist_array_function`."
   ]
  },
  {
   "cell_type": "code",
   "execution_count": 5,
   "metadata": {},
   "outputs": [
    {
     "name": "stdout",
     "output_type": "stream",
     "text": [
      "Progress: 100%  \n"
     ]
    }
   ],
   "source": [
    "dist_file = './notebooks/preprocessing/coast_line.json'\n",
    "dcoast_array = get_dist_array(proj=25831, geotransform=[260000, 270, 0, 4750000, 0, -270], size=[1000, 970], dist_file=dist_file)"
   ]
  },
  {
   "cell_type": "markdown",
   "metadata": {},
   "source": [
    "Now we'll save the `dcoast_array` as a .tiff image in order to keep it for further steps in pyMICA. For this purpose, we'll import `get_tif_from_array` function and call it. It requires the destination file path with the name of the file included, the data to include in the .tiff, the geotransform and the EPSG projection of the .tif file."
   ]
  },
  {
   "cell_type": "code",
   "execution_count": 6,
   "metadata": {},
   "outputs": [],
   "source": [
    "from utils.tiff import get_tif_from_array\n",
    "\n",
    "get_tif_from_array(file_path = './notebooks/preprocessing/dcoast_1000_970.tiff',\n",
    "                   data = dcoast_array,\n",
    "                   geotransform = [260000, 270, 0, 4750000, 0, -270],\n",
    "                   projection = 25831)"
   ]
  },
  {
   "cell_type": "markdown",
   "metadata": {},
   "source": [
    "Now, a .tiff file including the dcoast_array is saved in ./notebooks/preprocessing/dcoast.tiff\n",
    "\n",
    "If we want to have a quick look on dcoast_array we can plot it using imshow."
   ]
  },
  {
   "cell_type": "code",
   "execution_count": 11,
   "metadata": {},
   "outputs": [
    {
     "data": {
      "image/png": "[encoded data removed]",
      "text/plain": [
       "<Figure size 432x288 with 1 Axes>"
      ]
     },
     "metadata": {
      "needs_background": "light"
     },
     "output_type": "display_data"
    }
   ],
   "source": [
    "import matplotlib.pyplot as plt\n",
    "plt.imshow(dcoast_array)\n",
    "plt.show()"
   ]
  },
  {
   "cell_type": "markdown",
   "metadata": {},
   "source": [
    "The required raster fields where the regression models will be applied are created."
   ]
  },
  {
   "cell_type": "markdown",
   "metadata": {},
   "source": [
    "If we want to know the distance to coast in meters of every station in our network, `get_distances` function provides it. Then, once the distances are known, the abovementioned logarithmic function (`dist2func`) is used to get the distance to coast function value.\n",
    "\n",
    "First we'll import both functions (`get distances` and `dist2func`) and then call them."
   ]
  },
  {
   "cell_type": "code",
   "execution_count": 16,
   "metadata": {},
   "outputs": [],
   "source": [
    "from distance.distance_to_sea import get_distances, dist2func"
   ]
  },
  {
   "cell_type": "markdown",
   "metadata": {},
   "source": [
    "`get_distances` receives as parameters a list of longitude and latitude points. As an example we'll calculate the distance to coast function value for two stations. One with longitude 1$^{\\circ}$ and latitude 41$^{\\circ}$, and another one with 0.5$^{\\circ}$ and 40$^{\\circ}$ for longitude and latitude, respectively.\n",
    "\n",
    "First, we calculate the distances to coast in meters."
   ]
  },
  {
   "cell_type": "code",
   "execution_count": 18,
   "metadata": {},
   "outputs": [
    {
     "name": "stdout",
     "output_type": "stream",
     "text": [
      "Station 1: 3910.667706725673 m\n",
      "Station 2: 30695.846524391513 m\n"
     ]
    }
   ],
   "source": [
    "points = [[1, 41], [0.5, 40]]\n",
    "dist_file = './notebooks/clusters/coast_line.json'\n",
    "dcoast_points = get_distances(points, dist_file)\n",
    "print('Station 1: ' + str(dcoast_points[0]) + ' m')\n",
    "print('Station 2: ' + str(dcoast_points[1]) + ' m')"
   ]
  },
  {
   "cell_type": "markdown",
   "metadata": {},
   "source": [
    "Now, with the `dcoast_points`, we can call `dist2func` which apply the abovementioned logarithmic function."
   ]
  },
  {
   "cell_type": "code",
   "execution_count": 25,
   "metadata": {},
   "outputs": [
    {
     "name": "stdout",
     "output_type": "stream",
     "text": [
      "Distance to coast function:\n",
      "    Station 1: 0.1106994563042486\n",
      "    Station 2: 0.6018296681315223\n"
     ]
    }
   ],
   "source": [
    "print('Distance to coast function:')\n",
    "for i in range(len(dcoast_points)):\n",
    "    print('    Station ' + str(i+1) + ': ' + str(dist2func(dcoast_points[i])))"
   ]
  },
  {
   "cell_type": "markdown",
   "metadata": {},
   "source": [
    "We have finished the last part of the pre-processing steps in pyMICA!"
   ]
  }
 ],
 "metadata": {
  "kernelspec": {
   "display_name": "Python 3",
   "language": "python",
   "name": "python3"
  },
  "language_info": {
   "codemirror_mode": {
    "name": "ipython",
    "version": 3
   },
   "file_extension": ".py",
   "mimetype": "text/x-python",
   "name": "python",
   "nbconvert_exporter": "python",
   "pygments_lexer": "ipython3",
   "version": "3.7.3"
  }
 },
 "nbformat": 4,
 "nbformat_minor": 2
}
