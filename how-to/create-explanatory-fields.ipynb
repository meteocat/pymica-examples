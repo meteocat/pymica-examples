{
 "cells": [
  {
   "cell_type": "markdown",
   "metadata": {},
   "source": [
    "# Create explanatory variables fields"
   ]
  },
  {
   "cell_type": "markdown",
   "metadata": {},
   "source": [
    "MICA system works with Multiple Linear Regressions (MLR) whose independent variables are known as explanatory variables. These variables fields are needed in order to interpolate the regression models. Then, before starting the MLR models calculation and the interpolation itself, we need to prepare the explanatory data fields. \n",
    "\n",
    "In this case we'll show how to obtain altitude and distance to coast fields."
   ]
  },
  {
   "cell_type": "markdown",
   "metadata": {},
   "source": [
    "### Altitude"
   ]
  },
  {
   "cell_type": "markdown",
   "metadata": {},
   "source": [
    "A Digital Elevation Model (DEM) with the extent and resolution of the final interpolated field we want to obtain. It must be a raster image."
   ]
  },
  {
   "cell_type": "markdown",
   "metadata": {},
   "source": [
    "### Distance to coast"
   ]
  },
  {
   "cell_type": "markdown",
   "metadata": {},
   "source": [
    "This raster is built using a logarithmic function $d_{coast} = 1 - e^{-\\dfrac{3\\cdot dist}{D}}$, where $d_{coast}$ is the resultant distance to coast of the function, *dist* is the Euclidean distance from a point to the coast line and *D* is the distance where the distance to coast is cancelled.\n",
    "\n",
    "The distance to coast raster is built using `get_dist_array` function. Now, we'll import it."
   ]
  },
  {
   "cell_type": "code",
   "execution_count": null,
   "metadata": {},
   "outputs": [],
   "source": [
    "from distance.distance_to_sea import get_dist_array"
   ]
  },
  {
   "cell_type": "markdown",
   "metadata": {},
   "source": [
    "The `get_dist_array` function returns a matrix with the distance to sea values. It receives as parameters:\n",
    "\n",
    "   - proj        : The EPSG code for the output matrix projection  \n",
    "   - geotransform: The output raster geotransform\n",
    "   - size        : The output raster size\n",
    "   - dist_file   : The path to an ogr compatible file with a line containing the shore geometry\n",
    "\n",
    "Now, we'll call the `get_dist_array_function`."
   ]
  },
  {
   "cell_type": "code",
   "execution_count": null,
   "metadata": {},
   "outputs": [],
   "source": [
    "dist_file = '../sample-data/explanatory/cat_coast_line.json'\n",
    "dcoast_array = get_dist_array(proj=25831, geotransform=[260000, 270, 0, 4750000, 0, -270], size=[1000, 970], dist_file=dist_file)"
   ]
  },
  {
   "cell_type": "markdown",
   "metadata": {},
   "source": [
    "Now we'll save the `dcoast_array` as a .tiff image in order to keep it for further steps in pyMICA. For this purpose, we'll define the `get_tif_from_array` function and then, call it. It requires the destination file path with the name of the file included, the data to include in the .tiff, the geotransform and the EPSG projection of the .tif file."
   ]
  },
  {
   "cell_type": "code",
   "execution_count": null,
   "metadata": {},
   "outputs": [],
   "source": [
    "from osgeo import gdal, osr\n",
    "\n",
    "def get_tif_from_array(file_path, data, geotransform, projection):\n",
    "    '''\n",
    "    Reads an array and returns a .tif\n",
    "    Args:\n",
    "        file_path (str): The path of the .tiff file to be saved\n",
    "        data (array): Array of data to be transformed\n",
    "        geotransform (array): Geotransform for the .tif file\n",
    "        projection (int): EPSG projection code of the .tif file\n",
    "    '''\n",
    "    driver = gdal.GetDriverByName('GTiff')\n",
    "    ds_out = driver.Create(file_path, data.shape[1], data.shape[0], 1, gdal.GDT_Float32)\n",
    "    ds_out.GetRasterBand(1).WriteArray(data)\n",
    "    ds_out.GetRasterBand(1).SetNoDataValue(0)\n",
    "    ds_out.SetGeoTransform(geotransform)\n",
    "    spatialRef = osr.SpatialReference()\n",
    "    spatialRef.ImportFromEPSG(projection)\n",
    "    ds_out.SetProjection(str(spatialRef))\n",
    "\n",
    "    ds_out = None"
   ]
  },
  {
   "cell_type": "code",
   "execution_count": null,
   "metadata": {},
   "outputs": [],
   "source": [
    "get_tif_from_array(file_path = '../sample-data/results/dcoast_sample.tif',\n",
    "                   data = dcoast_array,\n",
    "                   geotransform = [260000, 270, 0, 4750000, 0, -270],\n",
    "                   projection = 25831)"
   ]
  },
  {
   "cell_type": "markdown",
   "metadata": {},
   "source": [
    "Now, a .tif file including the dcoast_array is saved in ./notebooks/preprocessing/dcoast.tiff\n",
    "\n",
    "If we want to have a quick look on dcoast_array we can plot it using imshow."
   ]
  },
  {
   "cell_type": "code",
   "execution_count": null,
   "metadata": {},
   "outputs": [],
   "source": [
    "import matplotlib.pyplot as plt\n",
    "plt.imshow(dcoast_array)\n",
    "plt.show()"
   ]
  },
  {
   "cell_type": "markdown",
   "metadata": {},
   "source": [
    "The required raster fields where the regression models will be applied have been created."
   ]
  }
 ],
 "metadata": {
  "kernelspec": {
   "display_name": "Python 3",
   "language": "python",
   "name": "python3"
  },
  "language_info": {
   "codemirror_mode": {
    "name": "ipython",
    "version": 3
   },
   "file_extension": ".py",
   "mimetype": "text/x-python",
   "name": "python",
   "nbconvert_exporter": "python",
   "pygments_lexer": "ipython3",
   "version": "3.7.3"
  }
 },
 "nbformat": 4,
 "nbformat_minor": 2
}
