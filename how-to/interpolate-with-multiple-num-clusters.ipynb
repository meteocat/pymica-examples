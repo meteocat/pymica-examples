{
 "cells": [
  {
   "cell_type": "markdown",
   "metadata": {},
   "source": [
    "# How to interpolate with multiple numbers of clusters"
   ]
  },
  {
   "cell_type": "markdown",
   "metadata": {},
   "source": [
    "This example shows how MICA interpolates air temperature observations using a Multiple Linear Regression with altitude and distance to coast as explanatory variables and an anomaly correction of the residues. Two number of clusters are considered, in the present case, two and four. This means that stations are classified in two and four different groups (clusters).\n",
    "\n",
    "For this example, we'll use the automatically defined clusters obtained in Clusters Section.\n",
    "\n",
    "First, we'll import the PyMica class."
   ]
  },
  {
   "cell_type": "code",
   "execution_count": null,
   "metadata": {},
   "outputs": [],
   "source": [
    "from pymica.pymica import PyMica"
   ]
  },
  {
   "cell_type": "markdown",
   "metadata": {},
   "source": [
    "PyMica class receives four parameters:\n",
    "\n",
    "   - data_file: The path of the .json file with the point data\n",
    "   - variables_file: A list of the file(s) path(s) containing the fields of the explanatory variables used in the regression. For more information on these fields, please see [Explanatory data](../preprocessing/pre_processing.ipynb) section.\n",
    "   - clusters: A dictionary with two keys {'clusters_files': path for the clusters definitions, 'mask files': path for the rasterized clusters}. Form more information on these fields, please see [Clusters](../preprocessing/pre_processing.ipynb) section.\n",
    "   - data_format: A dictionary with the name of the variables in the data file if they are not named as the default option. Defaults to ```{'loc_vars': ('lon', 'lat'), 'id_key': 'id', 'y_var': 'temp', 'x_vars': ('altitude', 'dist')}```\n",
    "\n"
   ]
  },
  {
   "cell_type": "markdown",
   "metadata": {},
   "source": [
    "### Defining the parameters of PyMica class"
   ]
  },
  {
   "cell_type": "markdown",
   "metadata": {},
   "source": [
    "First, we have to define `data_file`, `variables_file`, `clusters` and `data_format` parameters of PyMica class.\n"
   ]
  },
  {
   "cell_type": "code",
   "execution_count": null,
   "metadata": {},
   "outputs": [],
   "source": [
    "data_file = '../sample-data/data/xema_20181231_1400.json'\n",
    "variables_file = ['../sample-data/explanatory/cat_dem_25831.tif', '../sample-data/explanatory/cat_distance_coast.tif']\n",
    "clusters = {'clusters_files':['../sample-data/clusters/clusters_2.json', '../sample-data/clusters/clusters_4.json'], \n",
    "            'mask_files':['../sample-data/clusters/clusters_2_mask', '../sample-data/clusters/clusters_4_mask']}\n",
    "data_format = None"
   ]
  },
  {
   "cell_type": "markdown",
   "metadata": {},
   "source": [
    "And now, we can call the PyMica class."
   ]
  },
  {
   "cell_type": "code",
   "execution_count": null,
   "metadata": {},
   "outputs": [],
   "source": [
    "cluster_2_4_int = PyMica(data_file, variables_file, clusters, data_format)"
   ]
  },
  {
   "cell_type": "markdown",
   "metadata": {},
   "source": [
    "We can plot a quick look of the resultant air temperature interpolated field using imshow function."
   ]
  },
  {
   "cell_type": "code",
   "execution_count": null,
   "metadata": {},
   "outputs": [],
   "source": [
    "import matplotlib.pyplot as plt\n",
    "plt.imshow(cluster_2_4_int.result)\n",
    "cbar = plt.colorbar()\n",
    "cbar.set_label('Air Temperature ($^{\\circ}$C)')\n",
    "plt.show()"
   ]
  },
  {
   "cell_type": "markdown",
   "metadata": {},
   "source": [
    "Or we can just save the result into a .tif file using `save_file` function of PyMica class."
   ]
  },
  {
   "cell_type": "code",
   "execution_count": null,
   "metadata": {},
   "outputs": [],
   "source": [
    "cluster_2_4_int.save_file('../sample-data/results/clusters_2_4_int.tif')"
   ]
  }
 ],
 "metadata": {
  "kernelspec": {
   "display_name": "Python 3",
   "language": "python",
   "name": "python3"
  },
  "language_info": {
   "codemirror_mode": {
    "name": "ipython",
    "version": 3
   },
   "file_extension": ".py",
   "mimetype": "text/x-python",
   "name": "python",
   "nbconvert_exporter": "python",
   "pygments_lexer": "ipython3",
   "version": "3.7.3"
  }
 },
 "nbformat": 4,
 "nbformat_minor": 2
}
