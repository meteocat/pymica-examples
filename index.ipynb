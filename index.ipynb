{
 "cells": [
  {
   "cell_type": "markdown",
   "metadata": {},
   "source": [
    "# Welcome to PyMica-Examples!"
   ]
  },
  {
   "cell_type": "markdown",
   "metadata": {},
   "source": [
    "In this binder we have designed a set of tutorials to show step by step how to obtain an air temperature interpolated field using PyMica. \n",
    "\n",
    "In addition, several short examples labelled as \"how-to\" were created to show how specific parts and modules of PyMica project work.\n",
    "\n",
    "#### Try it yourself!"
   ]
  },
  {
   "cell_type": "markdown",
   "metadata": {},
   "source": [
    "### Tutorials Index"
   ]
  },
  {
   "cell_type": "markdown",
   "metadata": {},
   "source": [
    "[Tutorial 1](./tutorials/01_tutorial.ipynb)  \n",
    "   - [1.1 Preparation of weather station data](./tutorials/01_tutorial.ipynb#prep_aws_data)  \n",
    "   - [1.2 Generate explanatory data field](./tutorials/01_tutorial.ipynb#gen_explanatory)  \n",
    "\n",
    "[Tutorial 2](./tutorials/02_tutorial.ipynb)\n",
    "   - [2.1 Creation of automatic clusters](./tutorials/02_tutorial.ipynb#auto_clusters)  \n",
    "   - [2.2 Rasterize clusters](./tutorials/02_tutorial.ipynb#raster_clusters)  \n",
    "  \n",
    "[Tutorial 3](./tutorials/03_tutorial.ipynb)\n",
    "   - [3.1 Interpolation without clusters](./tutorials/03_tutorial.ipynb#int_noclusters)\n",
    "   - [3.2 Interpolation with one number of clusters](./tutorials/03_tutorial.ipynb#int_onelcuster)\n",
    "   - [3.3 Interpolation with more than one number of clusters](./tutorials/03_tutorial.ipynb#int_clusters)"
   ]
  },
  {
   "cell_type": "markdown",
   "metadata": {},
   "source": [
    "### How-to index"
   ]
  },
  {
   "cell_type": "markdown",
   "metadata": {},
   "source": [
    "[Calculate distance from stations to coast line](./how-to/calculate-distance-to-coast.ipynb)  \n",
    "[Create explanatory fields](./how-to/create-explanatory-fields.ipynb)  \n",
    "[Create clusters automatically](./how-to/create-clusters-automatically.ipynb)  \n",
    "[Rasterize clusters](./how-to/rasterize-clusters.ipynb)  \n",
    "[Interpolate without clusters](./how-to/interpolate-without-clusters.ipynb)  \n",
    "[Interpolate with one number of clusters](./how-to/interpolate-with-one-num-clusters.ipynb)  \n",
    "[Interpolate with muliple number of clusters](./how-to/interpolate-with-multiple-num-clusters.ipynb)  "
   ]
  },
  {
   "cell_type": "markdown",
   "metadata": {},
   "source": [
    "### Env. Mod & Soft. tutorials"
   ]
  },
  {
   "cell_type": "markdown",
   "metadata": {},
   "source": [
    "[EMS - Tutorial 1](./envmodsoft/Tutorial1.ipynb)  \n",
    "[EMS - Tutorial 2](./envmodsoft/Tutorial2.ipynb)  \n",
    "[EMS - Tutorial 3](./envmodsoft/Tutorial3.ipynb)  \n",
    "[EMS - Tutorial 4](./envmodsoft/Tutorial4.ipynb)  "
   ]
  }
 ],
 "metadata": {
  "kernelspec": {
   "display_name": "Python 3",
   "language": "python",
   "name": "python3"
  },
  "language_info": {
   "codemirror_mode": {
    "name": "ipython",
    "version": 3
   },
   "file_extension": ".py",
   "mimetype": "text/x-python",
   "name": "python",
   "nbconvert_exporter": "python",
   "pygments_lexer": "ipython3",
   "version": "3.7.3"
  }
 },
 "nbformat": 4,
 "nbformat_minor": 2
}
