{
 "cells": [
  {
   "cell_type": "markdown",
   "metadata": {},
   "source": [
    "<a id='1_tutorial'></a>\n",
    "# Tutorial 1"
   ]
  },
  {
   "cell_type": "markdown",
   "metadata": {},
   "source": [
    "In this tutorial we'll cover the first steps of PyMica including preparation of weather station data and explanatory variable fields.\n",
    "\n",
    "   - [1.1 Preparation of weather station data](#prep_aws_data)  \n",
    "   - [1.2 Generate explanatory data field](#gen_explanatory)  "
   ]
  },
  {
   "cell_type": "markdown",
   "metadata": {},
   "source": [
    "<a id='prep_aws_data'></a>\n",
    "### 1.1 Preparation of weather station data"
   ]
  },
  {
   "cell_type": "markdown",
   "metadata": {},
   "source": [
    "The data format of weather stations data used by PyMica is a list containing a dictionary for each weather station including, at least, the following vairables:\n",
    "\n",
    "   - Longitude\n",
    "   - Latitude\n",
    "   - Identification code\n",
    "   - Meteorological variable value to interpolate\n",
    "   - Value of the explanatory variables that will be used in the multiple linear regression calculation (altitude, distance to coast...)\n",
    "  \n",
    "An element of the list containing this variables are organized as follows for each weather station:\n",
    "\n",
    "```json\n",
    "       {'id': value, \n",
    "        'temp': value,\n",
    "        'lon': value,\n",
    "        'lat': value,\n",
    "        'altitude': value,\n",
    "        ...}\n",
    "```\n",
    "The weather station data is supplied to PyMica in a .json file including a list containing information of all weather stations to consider. \n",
    "\n",
    "We'll work with data from the Automatic Weather Station Network (XEMA) of the Meteorological Service of Catalonia. Still, you can provide your own data to PyMica! \n",
    "\n",
    "First, we'll import the required libraries."
   ]
  },
  {
   "cell_type": "code",
   "execution_count": 2,
   "metadata": {},
   "outputs": [],
   "source": [
    "import json\n",
    "import pandas as pd\n",
    "from datetime import datetime"
   ]
  },
  {
   "cell_type": "markdown",
   "metadata": {},
   "source": [
    "Now, let's suppose that our data is in a .csv format. In /cat directory we'll find data from XEMA network for 2017/02/21 12:00 UTC and its corresponding metadata. There are four files, two in .csv format and two in .json format ready to be used by PyMICA. If you want to skip the preparation of .json files, just go to [Section 1.2](#gen_explanatory).\n",
    "\n",
    "We'll open both .csv files: XEMA_20170221_1200.csv and XEMA_metadata using pandas."
   ]
  },
  {
   "cell_type": "code",
   "execution_count": 3,
   "metadata": {},
   "outputs": [],
   "source": [
    "file_data = '../sample-data/data/XEMA_20170221_1200.csv'\n",
    "file_metadata = '../sample-data/data/XEMA_metadata.csv'\n",
    "\n",
    "station_data = pd.read_csv(file_data)\n",
    "metadata = pd.read_csv(file_metadata)\n",
    "\n",
    "data = []\n",
    "for key in station_data['key']:\n",
    "    df_data = station_data[station_data['key'] == key]\n",
    "    df_meta = metadata[metadata['key'] == key]\n",
    "    data.append({'id': key, \n",
    "                 'temp': float(df_data['temp']),\n",
    "                 'lon': float(df_meta['lon']),\n",
    "                 'lat': float(df_meta['lat']),\n",
    "                 'altitude': float(df_meta['altitude']),\n",
    "                 'dist': float(df_meta['dist'])})"
   ]
  },
  {
   "cell_type": "markdown",
   "metadata": {},
   "source": [
    "If we print the first element of ```data``` we can see all the required variables for a station (longitude, latitude, distance to coast line, value of temperature, identification code and altitude):"
   ]
  },
  {
   "cell_type": "code",
   "execution_count": 4,
   "metadata": {},
   "outputs": [
    {
     "name": "stdout",
     "output_type": "stream",
     "text": [
      "Sample data: {'id': 'C6', 'temp': 8.8, 'lon': 0.9517200000000001, 'lat': 41.6566, 'altitude': 264.0, 'dist': 0.8587308027349195}\n",
      "Number of stations: 180\n"
     ]
    }
   ],
   "source": [
    "print('Sample data: ' + str(data[0]))\n",
    "print('Number of stations: ' + str(len(data)))"
   ]
  },
  {
   "cell_type": "markdown",
   "metadata": {},
   "source": [
    "Now, we'll save this data into a .json file to use it later."
   ]
  },
  {
   "cell_type": "code",
   "execution_count": 5,
   "metadata": {},
   "outputs": [],
   "source": [
    "with open('../sample-data/data/smc_data.json', 'w') as outfile:\n",
    "    json.dump(data, outfile)"
   ]
  },
  {
   "cell_type": "markdown",
   "metadata": {},
   "source": [
    "It is also important to creata a file with station metadata information. Then, we'll use ```metadata``` variable to build a .json file."
   ]
  },
  {
   "cell_type": "code",
   "execution_count": 6,
   "metadata": {},
   "outputs": [],
   "source": [
    "values = []\n",
    "for key in metadata['key']:\n",
    "    df_meta = metadata[metadata['key'] == key]\n",
    "    values.append({'id': key,\n",
    "                   'alt': float(df_meta['altitude']),\n",
    "                   'lon': float(df_meta['lon']),\n",
    "                   'lat': float(df_meta['lat']),\n",
    "                   'dist': float(df_meta['dist'])\n",
    "                  })"
   ]
  },
  {
   "cell_type": "markdown",
   "metadata": {},
   "source": [
    "Now, we'll save this data into a .json file to use it later."
   ]
  },
  {
   "cell_type": "code",
   "execution_count": 7,
   "metadata": {},
   "outputs": [],
   "source": [
    "with open('../sample-data/data/smc_metadata.json', 'w') as outfile:\n",
    "    json.dump(values, outfile) "
   ]
  },
  {
   "cell_type": "markdown",
   "metadata": {},
   "source": [
    "As you can see, we have introduced distance to coast values in our metadata .json file and in the .json field containing temperature data. The reason is that in the present case, we'll consider distance to coast as a coefficient in the Multiple Linear Regression models. If you want your distance to coast values for your stations or know how they are obtained, please see [Section 3](../preprocessing/pre_processing.ipynb#explanatory_data) from Pre Processing notebook.\n",
    "\n",
    "This is for the Catalan region, but you can try it with data from any other region!\n",
    "\n",
    "We have finished the preparation of weather station data for PyMica!"
   ]
  },
  {
   "cell_type": "markdown",
   "metadata": {},
   "source": [
    "<a id='gen_explanatory'></a>\n",
    "### 1.2 Generate explanatory data fields"
   ]
  },
  {
   "cell_type": "markdown",
   "metadata": {},
   "source": [
    "The explanatory variables considered in this tutorial are altitude and distance to coast. Then, we need a Digital Elevation Model (DEM) and a raster matrix of distance to coast values.\n",
    "\n",
    "In the cat/explanatory directory there is a DEM of Catalonia available and we'll use it for this tutorial. All the explanatory variable raster matrices must have the same spatial resolution and extension. Then, the DEM will be used as a reference to build the others, in this case only the distance to coast raster.\n",
    "\n",
    "First, we'll import the necessary libraries."
   ]
  },
  {
   "cell_type": "code",
   "execution_count": 9,
   "metadata": {},
   "outputs": [],
   "source": [
    "from osgeo import gdal, osr\n",
    "from distance.distance_to_sea import get_dist_array"
   ]
  },
  {
   "cell_type": "markdown",
   "metadata": {},
   "source": [
    "For ```get_dist_array``` function we need four parameters: projection, geotransform, size and a coast line file. We'll get the first three from the DEM and the coast line from explanatory folder."
   ]
  },
  {
   "cell_type": "code",
   "execution_count": 10,
   "metadata": {},
   "outputs": [],
   "source": [
    "dem_file = '../sample-data/explanatory/cat_dem_25831.tif'\n",
    "dem = gdal.Open(dem_file)\n",
    "\n",
    "projection = 25831\n",
    "geotransform = dem.GetGeoTransform()\n",
    "size = [dem.RasterXSize, dem.RasterYSize]\n",
    "coast_line = '../sample-data/explanatory/cat_coast_line.json'"
   ]
  },
  {
   "cell_type": "markdown",
   "metadata": {},
   "source": [
    "Once all the parameters are set, we call the ```get_dist_array``` function."
   ]
  },
  {
   "cell_type": "code",
   "execution_count": 11,
   "metadata": {},
   "outputs": [
    {
     "name": "stdout",
     "output_type": "stream",
     "text": [
      "Progress: 100%  \n"
     ]
    }
   ],
   "source": [
    "d_coast = get_dist_array(proj=projection, geotransform=geotransform, size=size, dist_file=coast_line)"
   ]
  },
  {
   "cell_type": "markdown",
   "metadata": {},
   "source": [
    "Now we can get a quick look of the d_coast array:"
   ]
  },
  {
   "cell_type": "code",
   "execution_count": 12,
   "metadata": {},
   "outputs": [
    {
     "ename": "ModuleNotFoundError",
     "evalue": "No module named 'matplotlib'",
     "output_type": "error",
     "traceback": [
      "\u001b[0;31m---------------------------------------------------------------------------\u001b[0m",
      "\u001b[0;31mModuleNotFoundError\u001b[0m                       Traceback (most recent call last)",
      "\u001b[0;32m<ipython-input-12-ee24e6735499>\u001b[0m in \u001b[0;36m<module>\u001b[0;34m\u001b[0m\n\u001b[0;32m----> 1\u001b[0;31m \u001b[0;32mimport\u001b[0m \u001b[0mmatplotlib\u001b[0m\u001b[0;34m.\u001b[0m\u001b[0mpyplot\u001b[0m \u001b[0;32mas\u001b[0m \u001b[0mplt\u001b[0m\u001b[0;34m\u001b[0m\u001b[0;34m\u001b[0m\u001b[0m\n\u001b[0m\u001b[1;32m      2\u001b[0m \u001b[0mplt\u001b[0m\u001b[0;34m.\u001b[0m\u001b[0mimshow\u001b[0m\u001b[0;34m(\u001b[0m\u001b[0md_coast\u001b[0m\u001b[0;34m)\u001b[0m\u001b[0;34m\u001b[0m\u001b[0;34m\u001b[0m\u001b[0m\n\u001b[1;32m      3\u001b[0m \u001b[0mplt\u001b[0m\u001b[0;34m.\u001b[0m\u001b[0mshow\u001b[0m\u001b[0;34m(\u001b[0m\u001b[0;34m)\u001b[0m\u001b[0;34m\u001b[0m\u001b[0;34m\u001b[0m\u001b[0m\n",
      "\u001b[0;31mModuleNotFoundError\u001b[0m: No module named 'matplotlib'"
     ]
    }
   ],
   "source": [
    "import matplotlib.pyplot as plt\n",
    "plt.imshow(d_coast)\n",
    "plt.show()"
   ]
  },
  {
   "cell_type": "markdown",
   "metadata": {},
   "source": [
    "And we must save the array into a .tif file to use it later. To do that, we'll define first a function to accomplish that:"
   ]
  },
  {
   "cell_type": "code",
   "execution_count": 13,
   "metadata": {},
   "outputs": [],
   "source": [
    "def get_tif_from_array(file_path, data, geotransform, projection):\n",
    "    '''\n",
    "    Reads an array and returns a .tif\n",
    "    Args:\n",
    "        file_path (str): The path of the .tiff file to be saved\n",
    "        data (array): Array of data to be transformed\n",
    "        geotransform (array): Geotransform for the .tif file\n",
    "        projection (int): EPSG projection code of the .tif file\n",
    "    '''\n",
    "    driver = gdal.GetDriverByName('GTiff')\n",
    "    ds_out = driver.Create(file_path, data.shape[1], data.shape[0], 1, gdal.GDT_Float32)\n",
    "    ds_out.GetRasterBand(1).WriteArray(data)\n",
    "    ds_out.GetRasterBand(1).SetNoDataValue(0)\n",
    "    ds_out.SetGeoTransform(geotransform)\n",
    "    spatialRef = osr.SpatialReference()\n",
    "    spatialRef.ImportFromEPSG(projection)\n",
    "    ds_out.SetProjection(str(spatialRef))\n",
    "\n",
    "    ds_out = None"
   ]
  },
  {
   "cell_type": "code",
   "execution_count": 14,
   "metadata": {},
   "outputs": [],
   "source": [
    "get_tif_from_array(file_path = '../sample-data/explanatory/cat_distance_coast.tif',\n",
    "                   data = d_coast,\n",
    "                   geotransform = geotransform,\n",
    "                   projection = projection)"
   ]
  },
  {
   "cell_type": "markdown",
   "metadata": {},
   "source": [
    "#### Now we have all the explanatory variables fields built and we have finished the first tutorial of PyMica!"
   ]
  }
 ],
 "metadata": {
  "kernelspec": {
   "display_name": "Python 3",
   "language": "python",
   "name": "python3"
  },
  "language_info": {
   "codemirror_mode": {
    "name": "ipython",
    "version": 3
   },
   "file_extension": ".py",
   "mimetype": "text/x-python",
   "name": "python",
   "nbconvert_exporter": "python",
   "pygments_lexer": "ipython3",
   "version": "3.7.3"
  }
 },
 "nbformat": 4,
 "nbformat_minor": 2
}
