{
 "cells": [
  {
   "cell_type": "markdown",
   "metadata": {},
   "source": [
    "# PyMica Tutorials"
   ]
  },
  {
   "cell_type": "markdown",
   "metadata": {},
   "source": [
    "In these tutorials we'll show step by step how to obtain an air temperature interpolated field using a Multiple Linear Regression with altitude and distance to coast as explanatory variables.\n",
    "\n",
    "There are three tutorials that will guide you through PyMica functions to obtain an air temperature interpolated field, let's start!"
   ]
  },
  {
   "cell_type": "markdown",
   "metadata": {},
   "source": [
    "### Tutorials Index"
   ]
  },
  {
   "cell_type": "markdown",
   "metadata": {},
   "source": [
    "[Tutorial 1](./01_tutorial.ipynb)  \n",
    "   - [1.1 Preparation of weather station data](./01_tutorial.ipynb#prep_aws_data)  \n",
    "   - [1.2 Generate explanatory data field](./01_tutorial.ipynb#gen_explanatory)  \n",
    "\n",
    "[Tutorial 2](./02_tutorial.ipynb)\n",
    "   - [2.1 Creation of automatic clusters](./02_tutorial.ipynb#auto_clusters)  \n",
    "   - [2.2 Rasterize clusters](./02_tutorial.ipynb#raster_clusters)  \n",
    "  \n",
    "[Tutorial 3](./03_tutorial.ipynb)\n",
    "   - [3.1 Interpolation without clusters](./03_tutorial.ipynb#int_noclusters)\n",
    "   - [3.2 Interpolation with one number of clusters](./03_tutorial.ipynb#int_onelcuster)\n",
    "   - [3.3 Interpolation with more than one number of clusters](./03_tutorial.ipynb#int_clusters)"
   ]
  },
  {
   "cell_type": "markdown",
   "metadata": {},
   "source": [
    "### Try it yourself!"
   ]
  }
 ],
 "metadata": {
  "kernelspec": {
   "display_name": "Python 3",
   "language": "python",
   "name": "python3"
  },
  "language_info": {
   "codemirror_mode": {
    "name": "ipython",
    "version": 3
   },
   "file_extension": ".py",
   "mimetype": "text/x-python",
   "name": "python",
   "nbconvert_exporter": "python",
   "pygments_lexer": "ipython3",
   "version": "3.7.3"
  }
 },
 "nbformat": 4,
 "nbformat_minor": 2
}
