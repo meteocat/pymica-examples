{
 "cells": [
  {
   "cell_type": "markdown",
   "metadata": {},
   "source": [
    "<a id='2_tutorial'></a>\n",
    "# Tutorial 2\n",
    "\n",
    "This tutorial is focused on clusters creation and on building associated raster matrices.\n",
    "\n",
    "   - [2.1 Creation of automatic clusters](#auto_clusters)\n",
    "   - [2.2 Rasterize clusters](#rasterize)"
   ]
  },
  {
   "cell_type": "markdown",
   "metadata": {},
   "source": [
    "<a id='auto_clusters'></a>\n",
    "### 2.1 Creation of automatic clusters"
   ]
  },
  {
   "cell_type": "markdown",
   "metadata": {},
   "source": [
    "In this tutorial we'll classify a weather stations network in two different number of clusters. First, we'll group the stations in two clusters and then in four, using the K-Means algorithm.\n",
    "\n",
    "What we need for this step?\n",
    "    Station data including longitude, latitude and altitude that we'll get from the smc_metadata.json file built in [Tutorial ](./1_tutorial.ipynb#prep_aws_data). But first, we'll import the required libraries."
   ]
  },
  {
   "cell_type": "code",
   "execution_count": null,
   "metadata": {},
   "outputs": [],
   "source": [
    "from cluster.create_clusters import create_clusters"
   ]
  },
  {
   "cell_type": "markdown",
   "metadata": {},
   "source": [
    "The ```create_clusters``` function requires two parameters: a .json file including station metadata and the number of clusters we want to obtain.\n",
    "\n",
    "Firstly, we'll create two clusters. When calling ```create_clsuters``` function, a new tab will be opened in your browser from which clusters can be downloaded in a .json file which we'll save in ./docs/notebooks/tutorials/cat/clusters/."
   ]
  },
  {
   "cell_type": "code",
   "execution_count": null,
   "metadata": {},
   "outputs": [],
   "source": [
    "create_clusters('../sample-data/data/smc_metadata.json', 2)"
   ]
  },
  {
   "cell_type": "markdown",
   "metadata": {},
   "source": [
    "We repeat the process for number of clusters 4."
   ]
  },
  {
   "cell_type": "code",
   "execution_count": null,
   "metadata": {},
   "outputs": [],
   "source": [
    "create_clusters('../sample-data/data/smc_metadata.json', 4)"
   ]
  },
  {
   "cell_type": "markdown",
   "metadata": {},
   "source": [
    "We have finished this step of the tutorial, now we have to rasterize the clusters!"
   ]
  },
  {
   "cell_type": "markdown",
   "metadata": {},
   "source": [
    "<a id='rasterize'></a>\n",
    "### 2.2 Rasterize the clusters"
   ]
  },
  {
   "cell_type": "markdown",
   "metadata": {},
   "source": [
    "Clusters must be rasterized in order to be used by PyMica functions. The rasterized clusters are used to obtain the interpolated field.\n",
    "\n",
    "For this part we'll call ```rasterize_clusters```, but first we need to reproject the clusters built to the desired EPSG projection using ```create_reprojected_geoms```, which in this case is EPSG:25831.\n",
    "\n",
    "We'll use the clusters saved in ./docs/notebooks/tutorials/cat/clusters/, but first we must import the required libraries."
   ]
  },
  {
   "cell_type": "code",
   "execution_count": null,
   "metadata": {},
   "outputs": [],
   "source": [
    "from cluster.create_cluster_files import rasterize_clusters, create_reprojected_geoms"
   ]
  },
  {
   "cell_type": "markdown",
   "metadata": {},
   "source": [
    "Now we call the ```create_reprojected_geoms``` which requires the clusters .json file path and an EPSG code. We call it twice for the two number of clusters chosen in [Create clusters](#auto_clusters)."
   ]
  },
  {
   "cell_type": "code",
   "execution_count": null,
   "metadata": {},
   "outputs": [],
   "source": [
    "clusters_2_layer = create_reprojected_geoms('../sample-data/clusters/clusters_2.json', 25831)\n",
    "clusters_4_layer = create_reprojected_geoms('../sample-data/clusters/clusters_4.json', 25831)"
   ]
  },
  {
   "cell_type": "markdown",
   "metadata": {},
   "source": [
    "Once the layers are reprojected, they are ready to be reprojected, so we call ```rasterize_clusters```. This function requires two parameters: the clusters layer and a dictionary with the raster properties (name of the output file, size and geotransform.\n",
    "\n",
    "In this case we will use the same values of the DEM file."
   ]
  },
  {
   "cell_type": "code",
   "execution_count": null,
   "metadata": {},
   "outputs": [],
   "source": [
    "from osgeo import gdal\n",
    "dem_file = '../sample-data/explanatory/cat_dem_25831.tif'\n",
    "dem = gdal.Open(dem_file)\n",
    "geotransform = dem.GetGeoTransform()\n",
    "size = [dem.RasterXSize, dem.RasterYSize]\n",
    "\n",
    "out_properties_2 = {'out_file'    : '../sample-data/clusters/clusters_2_mask',\n",
    "                  'size'        : size,\n",
    "                  'geotransform': geotransform}\n",
    "\n",
    "out_properties_4 = {'out_file'    : '../sample-data/clusters/clusters_4_mask',\n",
    "                  'size'        : size,\n",
    "                  'geotransform': geotransform}"
   ]
  },
  {
   "cell_type": "markdown",
   "metadata": {},
   "source": [
    "Now that the ```out_properties``` are defined for the two number of clusters considered, we call ```rasterize_clusters``` function."
   ]
  },
  {
   "cell_type": "code",
   "execution_count": null,
   "metadata": {},
   "outputs": [],
   "source": [
    "rasterize_clusters(clusters_2_layer, out_properties_2)\n",
    "rasterize_clusters(clusters_4_layer, out_properties_4)"
   ]
  },
  {
   "cell_type": "markdown",
   "metadata": {},
   "source": [
    "#### We have finished all the necessary steps to start working with PyMica!"
   ]
  }
 ],
 "metadata": {
  "kernelspec": {
   "display_name": "Python 3",
   "language": "python",
   "name": "python3"
  },
  "language_info": {
   "codemirror_mode": {
    "name": "ipython",
    "version": 3
   },
   "file_extension": ".py",
   "mimetype": "text/x-python",
   "name": "python",
   "nbconvert_exporter": "python",
   "pygments_lexer": "ipython3",
   "version": "3.7.3"
  }
 },
 "nbformat": 4,
 "nbformat_minor": 2
}
