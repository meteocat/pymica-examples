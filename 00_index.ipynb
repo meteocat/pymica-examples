{
 "cells": [
  {
   "cell_type": "markdown",
   "metadata": {},
   "source": [
    "# Welcome to PyMica-Examples!"
   ]
  },
  {
   "cell_type": "markdown",
   "metadata": {},
   "source": [
    "In this binder, we have created a series of tutorials to guide you step by step through the process of obtaining interpolated fields from point observations using various PyMica interpolation methodologies.\n",
    "\n",
    "#### Give it a try yourself!"
   ]
  },
  {
   "cell_type": "markdown",
   "metadata": {},
   "source": [
    "### How to..."
   ]
  },
  {
   "cell_type": "markdown",
   "metadata": {},
   "source": [
    "- [Prepare weather observations data](./01_howto_prepare_data.ipynb)\n",
    "- [Create predictor variables](./02_howto_predictor_variables.ipynb)\n",
    "- [Interpolate using inverse of the distance 2D](./03_howto_int_id2d.ipynb)\n",
    "- [Interpolate using inverse of the distance 3D](./04_howto_int_id3d.ipynb)\n",
    "- [Interpolate using multiple linear regression](./05_howto_int_mlr.ipynb)\n",
    "- [Interpolate using multiple linear regression with residual correction](./06_howto_int_mlr_residuals.ipynb)\n",
    "- [Create interpolation clusters](./07_howto_int_creation_clusters.ipynb)\n",
    "- [Interpolate using multiple linear regression, residual correction and clusters](./08_howto_int_mlr_residuals_clusters.ipynb)"
   ]
  }
 ],
 "metadata": {
  "kernelspec": {
   "display_name": "Python 3",
   "language": "python",
   "name": "python3"
  },
  "language_info": {
   "codemirror_mode": {
    "name": "ipython",
    "version": 3
   },
   "file_extension": ".py",
   "mimetype": "text/x-python",
   "name": "python",
   "nbconvert_exporter": "python",
   "pygments_lexer": "ipython3",
   "version": "3.7.3"
  }
 },
 "nbformat": 4,
 "nbformat_minor": 2
}
